{
 "cells": [
  {
   "cell_type": "markdown",
   "id": "aafb5750-dc75-433e-b2f4-ceeef1f3d2fa",
   "metadata": {},
   "source": [
    "# Sales Data Analysis\n",
    "\n",
    "We are going to use some sales data to do some exploratory analysis to answer the following questions:\n",
    "\n",
    "1. What is the overall Sales trend?\n",
    "2. What are the top 10 products by sales?\n",
    "3. What are the top 10 cities by sales?\n",
    "4. What is the most preferred shipping?\n",
    "5. Which Category and Sub-category had the highest sales?\n",
    "6. What are the total monthly sales for each Category?\n",
    "\n",
    "Dataset:\n",
    "https://www.kaggle.com/datasets/ishanshrivastava28/superstore-sales"
   ]
  },
  {
   "cell_type": "markdown",
   "id": "2825ed6d-10f0-40da-ac0b-dff47fc7556f",
   "metadata": {},
   "source": [
    "### Import Libraries"
   ]
  },
  {
   "cell_type": "code",
   "execution_count": 1,
   "id": "5e6321be-1054-404c-90de-b4564dbb647f",
   "metadata": {},
   "outputs": [],
   "source": [
    "# Data Manipulation\n",
    "import pandas as pd\n",
    "\n",
    "# Data Visualisation\n",
    "import matplotlib.pyplot as plt\n",
    "import seaborn as sns"
   ]
  },
  {
   "cell_type": "markdown",
   "id": "825adf8b-eda2-4a63-a3ec-c8234cea2a48",
   "metadata": {},
   "source": [
    "### Import Dataset"
   ]
  },
  {
   "cell_type": "code",
   "execution_count": 2,
   "id": "29bfca30-bdf1-4750-a0c6-3af5fb268715",
   "metadata": {},
   "outputs": [],
   "source": [
    "# Importing dataset\n",
    "df = pd.read_csv('Downloads/train.csv')"
   ]
  },
  {
   "cell_type": "markdown",
   "id": "47cf9f05-0e64-48cc-be24-30dd9f4f55b9",
   "metadata": {},
   "source": [
    "## Data Audit"
   ]
  },
  {
   "cell_type": "markdown",
   "id": "e21cc488-4bf3-4430-865c-699e0b2cdc07",
   "metadata": {},
   "source": [
    "Let's briefly look at the data, checking the first/last 5 rows, shape, columns, and info."
   ]
  },
  {
   "cell_type": "code",
   "execution_count": 3,
   "id": "2f50be1c-82cd-4c9f-95df-e707896d772f",
   "metadata": {},
   "outputs": [
    {
     "data": {
      "text/html": [
       "<div>\n",
       "<style scoped>\n",
       "    .dataframe tbody tr th:only-of-type {\n",
       "        vertical-align: middle;\n",
       "    }\n",
       "\n",
       "    .dataframe tbody tr th {\n",
       "        vertical-align: top;\n",
       "    }\n",
       "\n",
       "    .dataframe thead th {\n",
       "        text-align: right;\n",
       "    }\n",
       "</style>\n",
       "<table border=\"1\" class=\"dataframe\">\n",
       "  <thead>\n",
       "    <tr style=\"text-align: right;\">\n",
       "      <th></th>\n",
       "      <th>Row ID</th>\n",
       "      <th>Order ID</th>\n",
       "      <th>Order Date</th>\n",
       "      <th>Ship Date</th>\n",
       "      <th>Ship Mode</th>\n",
       "      <th>Customer ID</th>\n",
       "      <th>Customer Name</th>\n",
       "      <th>Segment</th>\n",
       "      <th>Country</th>\n",
       "      <th>City</th>\n",
       "      <th>State</th>\n",
       "      <th>Postal Code</th>\n",
       "      <th>Region</th>\n",
       "      <th>Product ID</th>\n",
       "      <th>Category</th>\n",
       "      <th>Sub-Category</th>\n",
       "      <th>Product Name</th>\n",
       "      <th>Sales</th>\n",
       "    </tr>\n",
       "  </thead>\n",
       "  <tbody>\n",
       "    <tr>\n",
       "      <th>0</th>\n",
       "      <td>1</td>\n",
       "      <td>CA-2017-152156</td>\n",
       "      <td>08/11/2017</td>\n",
       "      <td>11/11/2017</td>\n",
       "      <td>Second Class</td>\n",
       "      <td>CG-12520</td>\n",
       "      <td>Claire Gute</td>\n",
       "      <td>Consumer</td>\n",
       "      <td>United States</td>\n",
       "      <td>Henderson</td>\n",
       "      <td>Kentucky</td>\n",
       "      <td>42420.0</td>\n",
       "      <td>South</td>\n",
       "      <td>FUR-BO-10001798</td>\n",
       "      <td>Furniture</td>\n",
       "      <td>Bookcases</td>\n",
       "      <td>Bush Somerset Collection Bookcase</td>\n",
       "      <td>261.9600</td>\n",
       "    </tr>\n",
       "    <tr>\n",
       "      <th>1</th>\n",
       "      <td>2</td>\n",
       "      <td>CA-2017-152156</td>\n",
       "      <td>08/11/2017</td>\n",
       "      <td>11/11/2017</td>\n",
       "      <td>Second Class</td>\n",
       "      <td>CG-12520</td>\n",
       "      <td>Claire Gute</td>\n",
       "      <td>Consumer</td>\n",
       "      <td>United States</td>\n",
       "      <td>Henderson</td>\n",
       "      <td>Kentucky</td>\n",
       "      <td>42420.0</td>\n",
       "      <td>South</td>\n",
       "      <td>FUR-CH-10000454</td>\n",
       "      <td>Furniture</td>\n",
       "      <td>Chairs</td>\n",
       "      <td>Hon Deluxe Fabric Upholstered Stacking Chairs,...</td>\n",
       "      <td>731.9400</td>\n",
       "    </tr>\n",
       "    <tr>\n",
       "      <th>2</th>\n",
       "      <td>3</td>\n",
       "      <td>CA-2017-138688</td>\n",
       "      <td>12/06/2017</td>\n",
       "      <td>16/06/2017</td>\n",
       "      <td>Second Class</td>\n",
       "      <td>DV-13045</td>\n",
       "      <td>Darrin Van Huff</td>\n",
       "      <td>Corporate</td>\n",
       "      <td>United States</td>\n",
       "      <td>Los Angeles</td>\n",
       "      <td>California</td>\n",
       "      <td>90036.0</td>\n",
       "      <td>West</td>\n",
       "      <td>OFF-LA-10000240</td>\n",
       "      <td>Office Supplies</td>\n",
       "      <td>Labels</td>\n",
       "      <td>Self-Adhesive Address Labels for Typewriters b...</td>\n",
       "      <td>14.6200</td>\n",
       "    </tr>\n",
       "    <tr>\n",
       "      <th>3</th>\n",
       "      <td>4</td>\n",
       "      <td>US-2016-108966</td>\n",
       "      <td>11/10/2016</td>\n",
       "      <td>18/10/2016</td>\n",
       "      <td>Standard Class</td>\n",
       "      <td>SO-20335</td>\n",
       "      <td>Sean O'Donnell</td>\n",
       "      <td>Consumer</td>\n",
       "      <td>United States</td>\n",
       "      <td>Fort Lauderdale</td>\n",
       "      <td>Florida</td>\n",
       "      <td>33311.0</td>\n",
       "      <td>South</td>\n",
       "      <td>FUR-TA-10000577</td>\n",
       "      <td>Furniture</td>\n",
       "      <td>Tables</td>\n",
       "      <td>Bretford CR4500 Series Slim Rectangular Table</td>\n",
       "      <td>957.5775</td>\n",
       "    </tr>\n",
       "    <tr>\n",
       "      <th>4</th>\n",
       "      <td>5</td>\n",
       "      <td>US-2016-108966</td>\n",
       "      <td>11/10/2016</td>\n",
       "      <td>18/10/2016</td>\n",
       "      <td>Standard Class</td>\n",
       "      <td>SO-20335</td>\n",
       "      <td>Sean O'Donnell</td>\n",
       "      <td>Consumer</td>\n",
       "      <td>United States</td>\n",
       "      <td>Fort Lauderdale</td>\n",
       "      <td>Florida</td>\n",
       "      <td>33311.0</td>\n",
       "      <td>South</td>\n",
       "      <td>OFF-ST-10000760</td>\n",
       "      <td>Office Supplies</td>\n",
       "      <td>Storage</td>\n",
       "      <td>Eldon Fold 'N Roll Cart System</td>\n",
       "      <td>22.3680</td>\n",
       "    </tr>\n",
       "  </tbody>\n",
       "</table>\n",
       "</div>"
      ],
      "text/plain": [
       "   Row ID        Order ID  Order Date   Ship Date       Ship Mode Customer ID  \\\n",
       "0       1  CA-2017-152156  08/11/2017  11/11/2017    Second Class    CG-12520   \n",
       "1       2  CA-2017-152156  08/11/2017  11/11/2017    Second Class    CG-12520   \n",
       "2       3  CA-2017-138688  12/06/2017  16/06/2017    Second Class    DV-13045   \n",
       "3       4  US-2016-108966  11/10/2016  18/10/2016  Standard Class    SO-20335   \n",
       "4       5  US-2016-108966  11/10/2016  18/10/2016  Standard Class    SO-20335   \n",
       "\n",
       "     Customer Name    Segment        Country             City       State  \\\n",
       "0      Claire Gute   Consumer  United States        Henderson    Kentucky   \n",
       "1      Claire Gute   Consumer  United States        Henderson    Kentucky   \n",
       "2  Darrin Van Huff  Corporate  United States      Los Angeles  California   \n",
       "3   Sean O'Donnell   Consumer  United States  Fort Lauderdale     Florida   \n",
       "4   Sean O'Donnell   Consumer  United States  Fort Lauderdale     Florida   \n",
       "\n",
       "   Postal Code Region       Product ID         Category Sub-Category  \\\n",
       "0      42420.0  South  FUR-BO-10001798        Furniture    Bookcases   \n",
       "1      42420.0  South  FUR-CH-10000454        Furniture       Chairs   \n",
       "2      90036.0   West  OFF-LA-10000240  Office Supplies       Labels   \n",
       "3      33311.0  South  FUR-TA-10000577        Furniture       Tables   \n",
       "4      33311.0  South  OFF-ST-10000760  Office Supplies      Storage   \n",
       "\n",
       "                                        Product Name     Sales  \n",
       "0                  Bush Somerset Collection Bookcase  261.9600  \n",
       "1  Hon Deluxe Fabric Upholstered Stacking Chairs,...  731.9400  \n",
       "2  Self-Adhesive Address Labels for Typewriters b...   14.6200  \n",
       "3      Bretford CR4500 Series Slim Rectangular Table  957.5775  \n",
       "4                     Eldon Fold 'N Roll Cart System   22.3680  "
      ]
     },
     "execution_count": 3,
     "metadata": {},
     "output_type": "execute_result"
    }
   ],
   "source": [
    "# View first 5 rows\n",
    "df.head()"
   ]
  },
  {
   "cell_type": "code",
   "execution_count": 4,
   "id": "233bb8d5-9f99-40d0-bf0a-60208a45cd7b",
   "metadata": {},
   "outputs": [
    {
     "data": {
      "text/html": [
       "<div>\n",
       "<style scoped>\n",
       "    .dataframe tbody tr th:only-of-type {\n",
       "        vertical-align: middle;\n",
       "    }\n",
       "\n",
       "    .dataframe tbody tr th {\n",
       "        vertical-align: top;\n",
       "    }\n",
       "\n",
       "    .dataframe thead th {\n",
       "        text-align: right;\n",
       "    }\n",
       "</style>\n",
       "<table border=\"1\" class=\"dataframe\">\n",
       "  <thead>\n",
       "    <tr style=\"text-align: right;\">\n",
       "      <th></th>\n",
       "      <th>Row ID</th>\n",
       "      <th>Order ID</th>\n",
       "      <th>Order Date</th>\n",
       "      <th>Ship Date</th>\n",
       "      <th>Ship Mode</th>\n",
       "      <th>Customer ID</th>\n",
       "      <th>Customer Name</th>\n",
       "      <th>Segment</th>\n",
       "      <th>Country</th>\n",
       "      <th>City</th>\n",
       "      <th>State</th>\n",
       "      <th>Postal Code</th>\n",
       "      <th>Region</th>\n",
       "      <th>Product ID</th>\n",
       "      <th>Category</th>\n",
       "      <th>Sub-Category</th>\n",
       "      <th>Product Name</th>\n",
       "      <th>Sales</th>\n",
       "    </tr>\n",
       "  </thead>\n",
       "  <tbody>\n",
       "    <tr>\n",
       "      <th>9795</th>\n",
       "      <td>9796</td>\n",
       "      <td>CA-2017-125920</td>\n",
       "      <td>21/05/2017</td>\n",
       "      <td>28/05/2017</td>\n",
       "      <td>Standard Class</td>\n",
       "      <td>SH-19975</td>\n",
       "      <td>Sally Hughsby</td>\n",
       "      <td>Corporate</td>\n",
       "      <td>United States</td>\n",
       "      <td>Chicago</td>\n",
       "      <td>Illinois</td>\n",
       "      <td>60610.0</td>\n",
       "      <td>Central</td>\n",
       "      <td>OFF-BI-10003429</td>\n",
       "      <td>Office Supplies</td>\n",
       "      <td>Binders</td>\n",
       "      <td>Cardinal HOLDit! Binder Insert Strips,Extra St...</td>\n",
       "      <td>3.798</td>\n",
       "    </tr>\n",
       "    <tr>\n",
       "      <th>9796</th>\n",
       "      <td>9797</td>\n",
       "      <td>CA-2016-128608</td>\n",
       "      <td>12/01/2016</td>\n",
       "      <td>17/01/2016</td>\n",
       "      <td>Standard Class</td>\n",
       "      <td>CS-12490</td>\n",
       "      <td>Cindy Schnelling</td>\n",
       "      <td>Corporate</td>\n",
       "      <td>United States</td>\n",
       "      <td>Toledo</td>\n",
       "      <td>Ohio</td>\n",
       "      <td>43615.0</td>\n",
       "      <td>East</td>\n",
       "      <td>OFF-AR-10001374</td>\n",
       "      <td>Office Supplies</td>\n",
       "      <td>Art</td>\n",
       "      <td>BIC Brite Liner Highlighters, Chisel Tip</td>\n",
       "      <td>10.368</td>\n",
       "    </tr>\n",
       "    <tr>\n",
       "      <th>9797</th>\n",
       "      <td>9798</td>\n",
       "      <td>CA-2016-128608</td>\n",
       "      <td>12/01/2016</td>\n",
       "      <td>17/01/2016</td>\n",
       "      <td>Standard Class</td>\n",
       "      <td>CS-12490</td>\n",
       "      <td>Cindy Schnelling</td>\n",
       "      <td>Corporate</td>\n",
       "      <td>United States</td>\n",
       "      <td>Toledo</td>\n",
       "      <td>Ohio</td>\n",
       "      <td>43615.0</td>\n",
       "      <td>East</td>\n",
       "      <td>TEC-PH-10004977</td>\n",
       "      <td>Technology</td>\n",
       "      <td>Phones</td>\n",
       "      <td>GE 30524EE4</td>\n",
       "      <td>235.188</td>\n",
       "    </tr>\n",
       "    <tr>\n",
       "      <th>9798</th>\n",
       "      <td>9799</td>\n",
       "      <td>CA-2016-128608</td>\n",
       "      <td>12/01/2016</td>\n",
       "      <td>17/01/2016</td>\n",
       "      <td>Standard Class</td>\n",
       "      <td>CS-12490</td>\n",
       "      <td>Cindy Schnelling</td>\n",
       "      <td>Corporate</td>\n",
       "      <td>United States</td>\n",
       "      <td>Toledo</td>\n",
       "      <td>Ohio</td>\n",
       "      <td>43615.0</td>\n",
       "      <td>East</td>\n",
       "      <td>TEC-PH-10000912</td>\n",
       "      <td>Technology</td>\n",
       "      <td>Phones</td>\n",
       "      <td>Anker 24W Portable Micro USB Car Charger</td>\n",
       "      <td>26.376</td>\n",
       "    </tr>\n",
       "    <tr>\n",
       "      <th>9799</th>\n",
       "      <td>9800</td>\n",
       "      <td>CA-2016-128608</td>\n",
       "      <td>12/01/2016</td>\n",
       "      <td>17/01/2016</td>\n",
       "      <td>Standard Class</td>\n",
       "      <td>CS-12490</td>\n",
       "      <td>Cindy Schnelling</td>\n",
       "      <td>Corporate</td>\n",
       "      <td>United States</td>\n",
       "      <td>Toledo</td>\n",
       "      <td>Ohio</td>\n",
       "      <td>43615.0</td>\n",
       "      <td>East</td>\n",
       "      <td>TEC-AC-10000487</td>\n",
       "      <td>Technology</td>\n",
       "      <td>Accessories</td>\n",
       "      <td>SanDisk Cruzer 4 GB USB Flash Drive</td>\n",
       "      <td>10.384</td>\n",
       "    </tr>\n",
       "  </tbody>\n",
       "</table>\n",
       "</div>"
      ],
      "text/plain": [
       "      Row ID        Order ID  Order Date   Ship Date       Ship Mode  \\\n",
       "9795    9796  CA-2017-125920  21/05/2017  28/05/2017  Standard Class   \n",
       "9796    9797  CA-2016-128608  12/01/2016  17/01/2016  Standard Class   \n",
       "9797    9798  CA-2016-128608  12/01/2016  17/01/2016  Standard Class   \n",
       "9798    9799  CA-2016-128608  12/01/2016  17/01/2016  Standard Class   \n",
       "9799    9800  CA-2016-128608  12/01/2016  17/01/2016  Standard Class   \n",
       "\n",
       "     Customer ID     Customer Name    Segment        Country     City  \\\n",
       "9795    SH-19975     Sally Hughsby  Corporate  United States  Chicago   \n",
       "9796    CS-12490  Cindy Schnelling  Corporate  United States   Toledo   \n",
       "9797    CS-12490  Cindy Schnelling  Corporate  United States   Toledo   \n",
       "9798    CS-12490  Cindy Schnelling  Corporate  United States   Toledo   \n",
       "9799    CS-12490  Cindy Schnelling  Corporate  United States   Toledo   \n",
       "\n",
       "         State  Postal Code   Region       Product ID         Category  \\\n",
       "9795  Illinois      60610.0  Central  OFF-BI-10003429  Office Supplies   \n",
       "9796      Ohio      43615.0     East  OFF-AR-10001374  Office Supplies   \n",
       "9797      Ohio      43615.0     East  TEC-PH-10004977       Technology   \n",
       "9798      Ohio      43615.0     East  TEC-PH-10000912       Technology   \n",
       "9799      Ohio      43615.0     East  TEC-AC-10000487       Technology   \n",
       "\n",
       "     Sub-Category                                       Product Name    Sales  \n",
       "9795      Binders  Cardinal HOLDit! Binder Insert Strips,Extra St...    3.798  \n",
       "9796          Art           BIC Brite Liner Highlighters, Chisel Tip   10.368  \n",
       "9797       Phones                                        GE 30524EE4  235.188  \n",
       "9798       Phones           Anker 24W Portable Micro USB Car Charger   26.376  \n",
       "9799  Accessories                SanDisk Cruzer 4 GB USB Flash Drive   10.384  "
      ]
     },
     "execution_count": 4,
     "metadata": {},
     "output_type": "execute_result"
    }
   ],
   "source": [
    "# View last 5 rows\n",
    "df.tail()"
   ]
  },
  {
   "cell_type": "code",
   "execution_count": 5,
   "id": "a327bf0f-52db-4748-83f1-75d7b9c73c0d",
   "metadata": {},
   "outputs": [
    {
     "data": {
      "text/plain": [
       "(9800, 18)"
      ]
     },
     "execution_count": 5,
     "metadata": {},
     "output_type": "execute_result"
    }
   ],
   "source": [
    "# Shape of dataset\n",
    "df.shape"
   ]
  },
  {
   "cell_type": "code",
   "execution_count": 6,
   "id": "69f52471-c2f6-4e73-9c8a-ddf8fcee1118",
   "metadata": {},
   "outputs": [
    {
     "data": {
      "text/plain": [
       "Index(['Row ID', 'Order ID', 'Order Date', 'Ship Date', 'Ship Mode',\n",
       "       'Customer ID', 'Customer Name', 'Segment', 'Country', 'City', 'State',\n",
       "       'Postal Code', 'Region', 'Product ID', 'Category', 'Sub-Category',\n",
       "       'Product Name', 'Sales'],\n",
       "      dtype='object')"
      ]
     },
     "execution_count": 6,
     "metadata": {},
     "output_type": "execute_result"
    }
   ],
   "source": [
    "# Columns in the dataset\n",
    "df.columns"
   ]
  },
  {
   "cell_type": "code",
   "execution_count": 7,
   "id": "0284cee5-9d8f-407d-8f37-9de85d9ee7fc",
   "metadata": {},
   "outputs": [
    {
     "name": "stdout",
     "output_type": "stream",
     "text": [
      "<class 'pandas.core.frame.DataFrame'>\n",
      "RangeIndex: 9800 entries, 0 to 9799\n",
      "Data columns (total 18 columns):\n",
      " #   Column         Non-Null Count  Dtype  \n",
      "---  ------         --------------  -----  \n",
      " 0   Row ID         9800 non-null   int64  \n",
      " 1   Order ID       9800 non-null   object \n",
      " 2   Order Date     9800 non-null   object \n",
      " 3   Ship Date      9800 non-null   object \n",
      " 4   Ship Mode      9800 non-null   object \n",
      " 5   Customer ID    9800 non-null   object \n",
      " 6   Customer Name  9800 non-null   object \n",
      " 7   Segment        9800 non-null   object \n",
      " 8   Country        9800 non-null   object \n",
      " 9   City           9800 non-null   object \n",
      " 10  State          9800 non-null   object \n",
      " 11  Postal Code    9789 non-null   float64\n",
      " 12  Region         9800 non-null   object \n",
      " 13  Product ID     9800 non-null   object \n",
      " 14  Category       9800 non-null   object \n",
      " 15  Sub-Category   9800 non-null   object \n",
      " 16  Product Name   9800 non-null   object \n",
      " 17  Sales          9800 non-null   float64\n",
      "dtypes: float64(2), int64(1), object(15)\n",
      "memory usage: 1.3+ MB\n"
     ]
    }
   ],
   "source": [
    "# Summary of the dataset\n",
    "df.info()"
   ]
  },
  {
   "cell_type": "code",
   "execution_count": 8,
   "id": "40779b44-e904-4329-bfc2-28041bfea077",
   "metadata": {},
   "outputs": [
    {
     "data": {
      "text/plain": [
       "Row ID            0\n",
       "Order ID          0\n",
       "Order Date        0\n",
       "Ship Date         0\n",
       "Ship Mode         0\n",
       "Customer ID       0\n",
       "Customer Name     0\n",
       "Segment           0\n",
       "Country           0\n",
       "City              0\n",
       "State             0\n",
       "Postal Code      11\n",
       "Region            0\n",
       "Product ID        0\n",
       "Category          0\n",
       "Sub-Category      0\n",
       "Product Name      0\n",
       "Sales             0\n",
       "dtype: int64"
      ]
     },
     "execution_count": 8,
     "metadata": {},
     "output_type": "execute_result"
    }
   ],
   "source": [
    "# Checking missing values\n",
    "df.isna().sum()"
   ]
  },
  {
   "cell_type": "markdown",
   "id": "fa5b969b-3434-439d-8f59-9e128c8b73c5",
   "metadata": {},
   "source": [
    "There are 11 null values in the 'Postal Code' column. \n",
    "\n",
    "Let's see what they are, and determine if we can find information to fill in the Null Values or if we should delete the rows with those Null Values."
   ]
  },
  {
   "cell_type": "code",
   "execution_count": 9,
   "id": "69fc9195-f112-41c8-874f-6af265a2afa0",
   "metadata": {},
   "outputs": [
    {
     "name": "stdout",
     "output_type": "stream",
     "text": [
      "      Row ID        Order ID  Order Date   Ship Date       Ship Mode  \\\n",
      "2234    2235  CA-2018-104066  05/12/2018  10/12/2018  Standard Class   \n",
      "5274    5275  CA-2016-162887  07/11/2016  09/11/2016    Second Class   \n",
      "8798    8799  US-2017-150140  06/04/2017  10/04/2017  Standard Class   \n",
      "9146    9147  US-2017-165505  23/01/2017  27/01/2017  Standard Class   \n",
      "9147    9148  US-2017-165505  23/01/2017  27/01/2017  Standard Class   \n",
      "9148    9149  US-2017-165505  23/01/2017  27/01/2017  Standard Class   \n",
      "9386    9387  US-2018-127292  19/01/2018  23/01/2018  Standard Class   \n",
      "9387    9388  US-2018-127292  19/01/2018  23/01/2018  Standard Class   \n",
      "9388    9389  US-2018-127292  19/01/2018  23/01/2018  Standard Class   \n",
      "9389    9390  US-2018-127292  19/01/2018  23/01/2018  Standard Class   \n",
      "9741    9742  CA-2016-117086  08/11/2016  12/11/2016  Standard Class   \n",
      "\n",
      "     Customer ID     Customer Name      Segment        Country        City  \\\n",
      "2234    QJ-19255      Quincy Jones    Corporate  United States  Burlington   \n",
      "5274    SV-20785  Stewart Visinsky     Consumer  United States  Burlington   \n",
      "8798    VM-21685   Valerie Mitchum  Home Office  United States  Burlington   \n",
      "9146    CB-12535  Claudia Bergmann    Corporate  United States  Burlington   \n",
      "9147    CB-12535  Claudia Bergmann    Corporate  United States  Burlington   \n",
      "9148    CB-12535  Claudia Bergmann    Corporate  United States  Burlington   \n",
      "9386    RM-19375     Raymond Messe     Consumer  United States  Burlington   \n",
      "9387    RM-19375     Raymond Messe     Consumer  United States  Burlington   \n",
      "9388    RM-19375     Raymond Messe     Consumer  United States  Burlington   \n",
      "9389    RM-19375     Raymond Messe     Consumer  United States  Burlington   \n",
      "9741    QJ-19255      Quincy Jones    Corporate  United States  Burlington   \n",
      "\n",
      "        State  Postal Code Region       Product ID         Category  \\\n",
      "2234  Vermont          NaN   East  TEC-AC-10001013       Technology   \n",
      "5274  Vermont          NaN   East  FUR-CH-10000595        Furniture   \n",
      "8798  Vermont          NaN   East  TEC-PH-10002555       Technology   \n",
      "9146  Vermont          NaN   East  TEC-AC-10002926       Technology   \n",
      "9147  Vermont          NaN   East  OFF-AR-10003477  Office Supplies   \n",
      "9148  Vermont          NaN   East  OFF-ST-10001526  Office Supplies   \n",
      "9386  Vermont          NaN   East  OFF-PA-10000157  Office Supplies   \n",
      "9387  Vermont          NaN   East  OFF-PA-10001970  Office Supplies   \n",
      "9388  Vermont          NaN   East  OFF-AP-10000828  Office Supplies   \n",
      "9389  Vermont          NaN   East  OFF-EN-10001509  Office Supplies   \n",
      "9741  Vermont          NaN   East  FUR-BO-10004834        Furniture   \n",
      "\n",
      "     Sub-Category                                       Product Name    Sales  \n",
      "2234  Accessories        Logitech ClearChat Comfort/USB Headset H390   205.03  \n",
      "5274       Chairs                    Safco Contoured Stacking Chairs   715.20  \n",
      "8798       Phones                Nortel Meridian M5316 Digital phone  1294.75  \n",
      "9146  Accessories              Logitech Wireless Marathon Mouse M705    99.98  \n",
      "9147          Art                                  4009 Highlighters     8.04  \n",
      "9148      Storage              Iceberg Mobile Mega Data/Printer Cart  1564.29  \n",
      "9386        Paper                                          Xerox 191    79.92  \n",
      "9387        Paper                                         Xerox 1881    12.28  \n",
      "9388   Appliances                    Avanti 4.4 Cu. Ft. Refrigerator   542.94  \n",
      "9389    Envelopes                          Poly String Tie Envelopes     2.04  \n",
      "9741    Bookcases  Riverside Palais Royal Lawyers Bookcase, Royal...  4404.90  \n"
     ]
    }
   ],
   "source": [
    "# Print rows with null values\n",
    "nan_rows = df[df.isnull().any(axis=1)]\n",
    "print(nan_rows)"
   ]
  },
  {
   "cell_type": "markdown",
   "id": "cae1b4db-f24e-4483-8f53-b61af5232b3d",
   "metadata": {},
   "source": [
    "Burlinton is the only city with Null Values, so using the customer names from this list, we can search all the rows containing the customer's name then check if they have additional orders to Burlington, then use those postal codes to fill in the Null Values."
   ]
  },
  {
   "cell_type": "code",
   "execution_count": 10,
   "id": "a8e12c66-9296-4130-b49c-9b0378e51817",
   "metadata": {},
   "outputs": [
    {
     "name": "stdout",
     "output_type": "stream",
     "text": [
      "      Row ID        Order ID  Order Date   Ship Date       Ship Mode  \\\n",
      "1758    1759  CA-2015-139017  11/05/2015  17/05/2015  Standard Class   \n",
      "1798    1799  CA-2017-100965  07/07/2017  11/07/2017  Standard Class   \n",
      "1835    1836  CA-2015-141278  21/06/2015  24/06/2015     First Class   \n",
      "6150    6151  US-2017-106600  08/04/2017  11/04/2017     First Class   \n",
      "6404    6405  CA-2016-156328  30/11/2016  05/12/2016  Standard Class   \n",
      "9386    9387  US-2018-127292  19/01/2018  23/01/2018  Standard Class   \n",
      "9387    9388  US-2018-127292  19/01/2018  23/01/2018  Standard Class   \n",
      "9388    9389  US-2018-127292  19/01/2018  23/01/2018  Standard Class   \n",
      "9389    9390  US-2018-127292  19/01/2018  23/01/2018  Standard Class   \n",
      "\n",
      "     Customer ID  Customer Name   Segment        Country        City  \\\n",
      "1758    RM-19375  Raymond Messe  Consumer  United States     Houston   \n",
      "1798    RM-19375  Raymond Messe  Consumer  United States    San Jose   \n",
      "1835    RM-19375  Raymond Messe  Consumer  United States     Meriden   \n",
      "6150    RM-19375  Raymond Messe  Consumer  United States    Columbus   \n",
      "6404    RM-19375  Raymond Messe  Consumer  United States     Raleigh   \n",
      "9386    RM-19375  Raymond Messe  Consumer  United States  Burlington   \n",
      "9387    RM-19375  Raymond Messe  Consumer  United States  Burlington   \n",
      "9388    RM-19375  Raymond Messe  Consumer  United States  Burlington   \n",
      "9389    RM-19375  Raymond Messe  Consumer  United States  Burlington   \n",
      "\n",
      "               State  Postal Code   Region       Product ID         Category  \\\n",
      "1758           Texas      77095.0  Central  TEC-AC-10001013       Technology   \n",
      "1798      California      95123.0     West  FUR-FU-10003039        Furniture   \n",
      "1835     Connecticut       6450.0     East  OFF-AR-10003056  Office Supplies   \n",
      "6150         Georgia      31907.0    South  FUR-BO-10001608        Furniture   \n",
      "6404  North Carolina      27604.0    South  TEC-PH-10001198       Technology   \n",
      "9386         Vermont          NaN     East  OFF-PA-10000157  Office Supplies   \n",
      "9387         Vermont          NaN     East  OFF-PA-10001970  Office Supplies   \n",
      "9388         Vermont          NaN     East  OFF-AP-10000828  Office Supplies   \n",
      "9389         Vermont          NaN     East  OFF-EN-10001509  Office Supplies   \n",
      "\n",
      "     Sub-Category                                       Product Name    Sales  \n",
      "1758  Accessories        Logitech ClearChat Comfort/USB Headset H390   46.864  \n",
      "1798  Furnishings  Howard Miller 11-1/2\" Diameter Grantwood Wall ...  215.650  \n",
      "1835          Art                                         Newell 341   21.400  \n",
      "6150    Bookcases                         Hon Metal Bookcases, Black  354.900  \n",
      "6404       Phones                            Avaya 4621SW VoIP phone  177.480  \n",
      "9386        Paper                                          Xerox 191   79.920  \n",
      "9387        Paper                                         Xerox 1881   12.280  \n",
      "9388   Appliances                    Avanti 4.4 Cu. Ft. Refrigerator  542.940  \n",
      "9389    Envelopes                          Poly String Tie Envelopes    2.040  \n"
     ]
    }
   ],
   "source": [
    "# Check if customers with the same name have ordered to the cities with NullValues\n",
    "selected_rows = df.loc[df['Customer Name'].isin(['Raymond Messe'])]\n",
    "print(selected_rows)"
   ]
  },
  {
   "cell_type": "markdown",
   "id": "76c67dc2-f330-4bef-a80b-e7a324e3d02b",
   "metadata": {},
   "source": [
    "After confirming that there were no additional postal code information using Customer Name and City, we can opt to delete these rows with Null Values "
   ]
  },
  {
   "cell_type": "code",
   "execution_count": 11,
   "id": "e848d235-ba1d-49a0-949c-0a26f9d9bb80",
   "metadata": {},
   "outputs": [],
   "source": [
    "# Drop any rows with null values\n",
    "df.dropna(inplace=True)"
   ]
  },
  {
   "cell_type": "code",
   "execution_count": 12,
   "id": "86a59057-69c6-47bf-8414-a2021f09403b",
   "metadata": {},
   "outputs": [
    {
     "data": {
      "text/plain": [
       "Row ID           0\n",
       "Order ID         0\n",
       "Order Date       0\n",
       "Ship Date        0\n",
       "Ship Mode        0\n",
       "Customer ID      0\n",
       "Customer Name    0\n",
       "Segment          0\n",
       "Country          0\n",
       "City             0\n",
       "State            0\n",
       "Postal Code      0\n",
       "Region           0\n",
       "Product ID       0\n",
       "Category         0\n",
       "Sub-Category     0\n",
       "Product Name     0\n",
       "Sales            0\n",
       "dtype: int64"
      ]
     },
     "execution_count": 12,
     "metadata": {},
     "output_type": "execute_result"
    }
   ],
   "source": [
    "# Confirm there are no Null Values\n",
    "df.isna().sum()"
   ]
  },
  {
   "cell_type": "code",
   "execution_count": 13,
   "id": "546fcc85-3eda-4b8a-b7bc-ba06b4abd836",
   "metadata": {},
   "outputs": [
    {
     "data": {
      "text/html": [
       "<div>\n",
       "<style scoped>\n",
       "    .dataframe tbody tr th:only-of-type {\n",
       "        vertical-align: middle;\n",
       "    }\n",
       "\n",
       "    .dataframe tbody tr th {\n",
       "        vertical-align: top;\n",
       "    }\n",
       "\n",
       "    .dataframe thead th {\n",
       "        text-align: right;\n",
       "    }\n",
       "</style>\n",
       "<table border=\"1\" class=\"dataframe\">\n",
       "  <thead>\n",
       "    <tr style=\"text-align: right;\">\n",
       "      <th></th>\n",
       "      <th>Row ID</th>\n",
       "      <th>Postal Code</th>\n",
       "      <th>Sales</th>\n",
       "    </tr>\n",
       "  </thead>\n",
       "  <tbody>\n",
       "    <tr>\n",
       "      <th>count</th>\n",
       "      <td>9789.0</td>\n",
       "      <td>9789.0</td>\n",
       "      <td>9789.0</td>\n",
       "    </tr>\n",
       "    <tr>\n",
       "      <th>mean</th>\n",
       "      <td>4897.0</td>\n",
       "      <td>55273.0</td>\n",
       "      <td>230.0</td>\n",
       "    </tr>\n",
       "    <tr>\n",
       "      <th>std</th>\n",
       "      <td>2827.0</td>\n",
       "      <td>32041.0</td>\n",
       "      <td>625.0</td>\n",
       "    </tr>\n",
       "    <tr>\n",
       "      <th>min</th>\n",
       "      <td>1.0</td>\n",
       "      <td>1040.0</td>\n",
       "      <td>0.0</td>\n",
       "    </tr>\n",
       "    <tr>\n",
       "      <th>25%</th>\n",
       "      <td>2449.0</td>\n",
       "      <td>23223.0</td>\n",
       "      <td>17.0</td>\n",
       "    </tr>\n",
       "    <tr>\n",
       "      <th>50%</th>\n",
       "      <td>4896.0</td>\n",
       "      <td>58103.0</td>\n",
       "      <td>54.0</td>\n",
       "    </tr>\n",
       "    <tr>\n",
       "      <th>75%</th>\n",
       "      <td>7344.0</td>\n",
       "      <td>90008.0</td>\n",
       "      <td>210.0</td>\n",
       "    </tr>\n",
       "    <tr>\n",
       "      <th>max</th>\n",
       "      <td>9800.0</td>\n",
       "      <td>99301.0</td>\n",
       "      <td>22638.0</td>\n",
       "    </tr>\n",
       "  </tbody>\n",
       "</table>\n",
       "</div>"
      ],
      "text/plain": [
       "       Row ID  Postal Code    Sales\n",
       "count  9789.0       9789.0   9789.0\n",
       "mean   4897.0      55273.0    230.0\n",
       "std    2827.0      32041.0    625.0\n",
       "min       1.0       1040.0      0.0\n",
       "25%    2449.0      23223.0     17.0\n",
       "50%    4896.0      58103.0     54.0\n",
       "75%    7344.0      90008.0    210.0\n",
       "max    9800.0      99301.0  22638.0"
      ]
     },
     "execution_count": 13,
     "metadata": {},
     "output_type": "execute_result"
    }
   ],
   "source": [
    "# Generating descriptive statistics summary\n",
    "df.describe().round()"
   ]
  },
  {
   "cell_type": "markdown",
   "id": "50379182-e33a-4d6a-8cc4-bcedcf68a79f",
   "metadata": {},
   "source": [
    "Let's check if there's anything else we should change about the data set"
   ]
  },
  {
   "cell_type": "code",
   "execution_count": 14,
   "id": "b856a306-65cb-4bff-b255-b7082c6504d3",
   "metadata": {},
   "outputs": [
    {
     "name": "stdout",
     "output_type": "stream",
     "text": [
      "<class 'pandas.core.frame.DataFrame'>\n",
      "Index: 9789 entries, 0 to 9799\n",
      "Data columns (total 18 columns):\n",
      " #   Column         Non-Null Count  Dtype  \n",
      "---  ------         --------------  -----  \n",
      " 0   Row ID         9789 non-null   int64  \n",
      " 1   Order ID       9789 non-null   object \n",
      " 2   Order Date     9789 non-null   object \n",
      " 3   Ship Date      9789 non-null   object \n",
      " 4   Ship Mode      9789 non-null   object \n",
      " 5   Customer ID    9789 non-null   object \n",
      " 6   Customer Name  9789 non-null   object \n",
      " 7   Segment        9789 non-null   object \n",
      " 8   Country        9789 non-null   object \n",
      " 9   City           9789 non-null   object \n",
      " 10  State          9789 non-null   object \n",
      " 11  Postal Code    9789 non-null   float64\n",
      " 12  Region         9789 non-null   object \n",
      " 13  Product ID     9789 non-null   object \n",
      " 14  Category       9789 non-null   object \n",
      " 15  Sub-Category   9789 non-null   object \n",
      " 16  Product Name   9789 non-null   object \n",
      " 17  Sales          9789 non-null   float64\n",
      "dtypes: float64(2), int64(1), object(15)\n",
      "memory usage: 1.4+ MB\n"
     ]
    }
   ],
   "source": [
    "df.info()"
   ]
  },
  {
   "cell_type": "markdown",
   "id": "ea9f157c-250b-4bd5-9c34-8595b4a30d6b",
   "metadata": {},
   "source": [
    "The 'Order Date' and 'Ship Date' columns are object types. Let's change them to datetime types so that we can extract the day, month, or year for analysis."
   ]
  },
  {
   "cell_type": "code",
   "execution_count": 15,
   "id": "1a495998-d5c4-4ee7-974c-8de5663639da",
   "metadata": {},
   "outputs": [],
   "source": [
    "# Change Order Date and Ship Date from string to datetime\n",
    "df['Order Date'] = pd.to_datetime(df['Order Date'], format='%d/%m/%Y')\n",
    "df['Ship Date'] = pd.to_datetime(df['Ship Date'], format='%d/%m/%Y')"
   ]
  },
  {
   "cell_type": "code",
   "execution_count": 16,
   "id": "7fcde026-138a-47a9-b3f2-62fd2a2fa7bd",
   "metadata": {},
   "outputs": [
    {
     "name": "stdout",
     "output_type": "stream",
     "text": [
      "<class 'pandas.core.frame.DataFrame'>\n",
      "Index: 9789 entries, 0 to 9799\n",
      "Data columns (total 18 columns):\n",
      " #   Column         Non-Null Count  Dtype         \n",
      "---  ------         --------------  -----         \n",
      " 0   Row ID         9789 non-null   int64         \n",
      " 1   Order ID       9789 non-null   object        \n",
      " 2   Order Date     9789 non-null   datetime64[ns]\n",
      " 3   Ship Date      9789 non-null   datetime64[ns]\n",
      " 4   Ship Mode      9789 non-null   object        \n",
      " 5   Customer ID    9789 non-null   object        \n",
      " 6   Customer Name  9789 non-null   object        \n",
      " 7   Segment        9789 non-null   object        \n",
      " 8   Country        9789 non-null   object        \n",
      " 9   City           9789 non-null   object        \n",
      " 10  State          9789 non-null   object        \n",
      " 11  Postal Code    9789 non-null   float64       \n",
      " 12  Region         9789 non-null   object        \n",
      " 13  Product ID     9789 non-null   object        \n",
      " 14  Category       9789 non-null   object        \n",
      " 15  Sub-Category   9789 non-null   object        \n",
      " 16  Product Name   9789 non-null   object        \n",
      " 17  Sales          9789 non-null   float64       \n",
      "dtypes: datetime64[ns](2), float64(2), int64(1), object(13)\n",
      "memory usage: 1.4+ MB\n"
     ]
    }
   ],
   "source": [
    "# Confirm Order Date and Ship Date have been changed to datetime\n",
    "df.info()"
   ]
  },
  {
   "cell_type": "markdown",
   "id": "83707143-0759-4895-9a07-cb933f5ce99f",
   "metadata": {},
   "source": [
    "Finally, let's check to make sure there are no errors or typos regarding the unique values in each categorical column."
   ]
  },
  {
   "cell_type": "code",
   "execution_count": 17,
   "id": "272417d4-057b-4100-8291-aaf406751543",
   "metadata": {},
   "outputs": [
    {
     "name": "stdout",
     "output_type": "stream",
     "text": [
      "['Second Class' 'Standard Class' 'First Class' 'Same Day']\n",
      "['Consumer' 'Corporate' 'Home Office']\n",
      "['United States']\n",
      "['Furniture' 'Office Supplies' 'Technology']\n",
      "['Bookcases' 'Chairs' 'Labels' 'Tables' 'Storage' 'Furnishings' 'Art'\n",
      " 'Phones' 'Binders' 'Appliances' 'Paper' 'Accessories' 'Envelopes'\n",
      " 'Fasteners' 'Supplies' 'Machines' 'Copiers']\n"
     ]
    }
   ],
   "source": [
    "# Check unique values of each column that are general categories\n",
    "unique_values_ship_mode = df['Ship Mode'].unique()\n",
    "print(unique_values_ship_mode)\n",
    "unique_values_segment = df['Segment'].unique()\n",
    "print(unique_values_segment)\n",
    "unique_values_country = df['Country'].unique()\n",
    "print(unique_values_country)\n",
    "unique_values_category = df['Category'].unique()\n",
    "print(unique_values_category)\n",
    "unique_values_sub_category = df['Sub-Category'].unique()\n",
    "print(unique_values_sub_category)"
   ]
  },
  {
   "cell_type": "markdown",
   "id": "dc2a2d14-b7ce-4fef-bac5-86ff558d5517",
   "metadata": {},
   "source": [
    "# Exploratory Data Analysis"
   ]
  },
  {
   "cell_type": "markdown",
   "id": "8af7ef9c-8191-4d9d-a021-2418aeefae8f",
   "metadata": {},
   "source": [
    "### 1. What is the overall Sales trend?"
   ]
  },
  {
   "cell_type": "code",
   "execution_count": 18,
   "id": "bce3d3c7-2f92-4e35-a5a4-06f99b10bf14",
   "metadata": {},
   "outputs": [
    {
     "data": {
      "image/png": "[encoded data removed]",
      "text/plain": [
       "<Figure size 1600x500 with 1 Axes>"
      ]
     },
     "metadata": {},
     "output_type": "display_data"
    }
   ],
   "source": [
    "# Getting month year from order_date\n",
    "df['month_year'] = df['Order Date'].apply(lambda x: x.strftime('%Y-%m'))\n",
    "\n",
    "# grouping month_year by sales\n",
    "df_temp = df.groupby('month_year')['Sales'].sum().reset_index()\n",
    "\n",
    "# Setting the figure size\n",
    "plt.figure(figsize=(16, 5))\n",
    "plt.plot(df_temp['month_year'], df_temp['Sales'], color='#b80045')\n",
    "plt.xticks(rotation='vertical', size=8)\n",
    "plt.show()"
   ]
  },
  {
   "cell_type": "markdown",
   "id": "2000e7d5-e388-4fd0-a15e-ef6f99264a93",
   "metadata": {},
   "source": [
    "### 2. What are the top 10 products by sales?"
   ]
  },
  {
   "cell_type": "code",
   "execution_count": 19,
   "id": "f75133db-2aed-485a-9986-46ac87bf1c54",
   "metadata": {},
   "outputs": [
    {
     "name": "stdout",
     "output_type": "stream",
     "text": [
      "                     Sales\n",
      "Product ID                \n",
      "TEC-CO-10004722  61599.824\n",
      "OFF-BI-10003527  27453.384\n",
      "TEC-MA-10002412  22638.480\n",
      "FUR-CH-10002024  21870.576\n",
      "OFF-BI-10001359  19823.479\n",
      "OFF-BI-10000545  19024.500\n",
      "TEC-CO-10001449  18839.686\n",
      "TEC-MA-10001127  18374.895\n",
      "OFF-BI-10004995  17965.068\n",
      "OFF-SU-10000151  17030.312\n"
     ]
    }
   ],
   "source": [
    "product_sales = df.groupby('Product ID')['Sales'].sum()\n",
    "\n",
    "# Sort the results in descending order\n",
    "sorted_product_sales = product_sales.sort_values(ascending=False)\n",
    "\n",
    "# Display the top cities (e.g., top 10)\n",
    "top_product = pd.DataFrame(sorted_product_sales.head(10))\n",
    "print(top_product)"
   ]
  },
  {
   "cell_type": "markdown",
   "id": "59a018c5-40d0-4621-a7f7-8ee41c5afaf3",
   "metadata": {},
   "source": [
    "### 3. What are the top 10 cities by sales?"
   ]
  },
  {
   "cell_type": "code",
   "execution_count": 20,
   "id": "6cc11fc7-aeee-4f89-9e9f-c49725165f6a",
   "metadata": {},
   "outputs": [
    {
     "name": "stdout",
     "output_type": "stream",
     "text": [
      "                     Sales\n",
      "City                      \n",
      "New York City  252462.5470\n",
      "Los Angeles    173420.1810\n",
      "Seattle        116106.3220\n",
      "San Francisco  109041.1200\n",
      "Philadelphia   108841.7490\n",
      "Houston         63956.1428\n",
      "Chicago         47820.1330\n",
      "San Diego       47521.0290\n",
      "Jacksonville    44713.1830\n",
      "Detroit         42446.9440\n"
     ]
    }
   ],
   "source": [
    "city_sales = df.groupby('City')['Sales'].sum()\n",
    "\n",
    "# Sort the results in descending order\n",
    "sorted_city_sales = city_sales.sort_values(ascending=False)\n",
    "\n",
    "# Display the top cities (e.g., top 10)\n",
    "top_city = pd.DataFrame(sorted_city_sales.head(10))\n",
    "print(top_city)"
   ]
  },
  {
   "cell_type": "markdown",
   "id": "67b42449-8bbe-4a3d-b65b-63e75b5e96be",
   "metadata": {},
   "source": [
    "### 4. What is the most preferred shipping?"
   ]
  },
  {
   "cell_type": "code",
   "execution_count": 26,
   "id": "0a63fd3f-9d29-4f1e-94d4-d4025c9f0e5d",
   "metadata": {},
   "outputs": [
    {
     "data": {
      "image/png": "[encoded data removed]",
      "text/plain": [
       "<Figure size 500x400 with 1 Axes>"
      ]
     },
     "metadata": {},
     "output_type": "display_data"
    }
   ],
   "source": [
    "# Setting the figure size\n",
    "plt.figure(figsize=(5, 4))\n",
    "\n",
    "# countplot: Show the counts of observations in each categorical bin using bars\n",
    "sns.countplot(x='Ship Mode', data=df)\n",
    "\n",
    "# Display the figure\n",
    "plt.show()"
   ]
  },
  {
   "cell_type": "markdown",
   "id": "971ad70a-c893-4af5-b3d9-0260fb3164eb",
   "metadata": {},
   "source": [
    "### 5. Which Category and Sub-category had the highest sales?"
   ]
  },
  {
   "cell_type": "code",
   "execution_count": 22,
   "id": "17920860-f9c0-4602-80f2-61067058680f",
   "metadata": {},
   "outputs": [
    {
     "data": {
      "text/html": [
       "<div>\n",
       "<style scoped>\n",
       "    .dataframe tbody tr th:only-of-type {\n",
       "        vertical-align: middle;\n",
       "    }\n",
       "\n",
       "    .dataframe tbody tr th {\n",
       "        vertical-align: top;\n",
       "    }\n",
       "\n",
       "    .dataframe thead th {\n",
       "        text-align: right;\n",
       "    }\n",
       "</style>\n",
       "<table border=\"1\" class=\"dataframe\">\n",
       "  <thead>\n",
       "    <tr style=\"text-align: right;\">\n",
       "      <th></th>\n",
       "      <th></th>\n",
       "      <th>Sales</th>\n",
       "    </tr>\n",
       "    <tr>\n",
       "      <th>Category</th>\n",
       "      <th>Sub-Category</th>\n",
       "      <th></th>\n",
       "    </tr>\n",
       "  </thead>\n",
       "  <tbody>\n",
       "    <tr>\n",
       "      <th rowspan=\"4\" valign=\"top\">Technology</th>\n",
       "      <th>Phones</th>\n",
       "      <td>326487.6980</td>\n",
       "    </tr>\n",
       "    <tr>\n",
       "      <th>Machines</th>\n",
       "      <td>189238.6310</td>\n",
       "    </tr>\n",
       "    <tr>\n",
       "      <th>Accessories</th>\n",
       "      <td>163881.6900</td>\n",
       "    </tr>\n",
       "    <tr>\n",
       "      <th>Copiers</th>\n",
       "      <td>146248.0940</td>\n",
       "    </tr>\n",
       "    <tr>\n",
       "      <th rowspan=\"9\" valign=\"top\">Office Supplies</th>\n",
       "      <th>Storage</th>\n",
       "      <td>217779.1020</td>\n",
       "    </tr>\n",
       "    <tr>\n",
       "      <th>Binders</th>\n",
       "      <td>200028.7850</td>\n",
       "    </tr>\n",
       "    <tr>\n",
       "      <th>Appliances</th>\n",
       "      <td>104075.4630</td>\n",
       "    </tr>\n",
       "    <tr>\n",
       "      <th>Paper</th>\n",
       "      <td>76736.1040</td>\n",
       "    </tr>\n",
       "    <tr>\n",
       "      <th>Supplies</th>\n",
       "      <td>46420.3080</td>\n",
       "    </tr>\n",
       "    <tr>\n",
       "      <th>Art</th>\n",
       "      <td>26697.3700</td>\n",
       "    </tr>\n",
       "    <tr>\n",
       "      <th>Envelopes</th>\n",
       "      <td>16126.0060</td>\n",
       "    </tr>\n",
       "    <tr>\n",
       "      <th>Labels</th>\n",
       "      <td>12347.7260</td>\n",
       "    </tr>\n",
       "    <tr>\n",
       "      <th>Fasteners</th>\n",
       "      <td>3001.9600</td>\n",
       "    </tr>\n",
       "    <tr>\n",
       "      <th rowspan=\"4\" valign=\"top\">Furniture</th>\n",
       "      <th>Chairs</th>\n",
       "      <td>322107.5310</td>\n",
       "    </tr>\n",
       "    <tr>\n",
       "      <th>Tables</th>\n",
       "      <td>202810.6280</td>\n",
       "    </tr>\n",
       "    <tr>\n",
       "      <th>Bookcases</th>\n",
       "      <td>109408.2987</td>\n",
       "    </tr>\n",
       "    <tr>\n",
       "      <th>Furnishings</th>\n",
       "      <td>89212.0180</td>\n",
       "    </tr>\n",
       "  </tbody>\n",
       "</table>\n",
       "</div>"
      ],
      "text/plain": [
       "                                    Sales\n",
       "Category        Sub-Category             \n",
       "Technology      Phones        326487.6980\n",
       "                Machines      189238.6310\n",
       "                Accessories   163881.6900\n",
       "                Copiers       146248.0940\n",
       "Office Supplies Storage       217779.1020\n",
       "                Binders       200028.7850\n",
       "                Appliances    104075.4630\n",
       "                Paper          76736.1040\n",
       "                Supplies       46420.3080\n",
       "                Art            26697.3700\n",
       "                Envelopes      16126.0060\n",
       "                Labels         12347.7260\n",
       "                Fasteners       3001.9600\n",
       "Furniture       Chairs        322107.5310\n",
       "                Tables        202810.6280\n",
       "                Bookcases     109408.2987\n",
       "                Furnishings    89212.0180"
      ]
     },
     "execution_count": 22,
     "metadata": {},
     "output_type": "execute_result"
    }
   ],
   "source": [
    "# Grouping products by Category and Sub-Category\n",
    "cat_subcat = pd.DataFrame(df.groupby(['Category', 'Sub-Category'])['Sales'].sum())\n",
    "\n",
    "# Sorting the values\n",
    "cat_subcat.sort_values(['Category','Sales'], ascending=False)"
   ]
  },
  {
   "cell_type": "markdown",
   "id": "539649a9-a4de-4985-b55b-b0fa9ef38667",
   "metadata": {},
   "source": [
    "### 6. What are the total monthly sales for each Category?"
   ]
  },
  {
   "cell_type": "code",
   "execution_count": 38,
   "id": "8d54bb23-eb0c-41f7-989b-e3943385d913",
   "metadata": {},
   "outputs": [
    {
     "data": {
      "image/png": "[encoded data removed]",
      "text/plain": [
       "<Figure size 1000x800 with 3 Axes>"
      ]
     },
     "metadata": {},
     "output_type": "display_data"
    }
   ],
   "source": [
    "# Convert 'Order Date' column to datetime format\n",
    "df['Order Date'] = pd.to_datetime(df['Order Date'])\n",
    "\n",
    "# Extract year and month from 'Order Date'\n",
    "df['Year'] = df['Order Date'].dt.year\n",
    "df['Month'] = df['Order Date'].dt.month_name()\n",
    "\n",
    "# Group data by 'Year', 'Month', and 'Category' to calculate total sales\n",
    "sales_by_month = df.groupby(['Year', 'Month', 'Category'])['Sales'].sum().reset_index()\n",
    "\n",
    "# Create a bar plot for each unique category\n",
    "unique_categories = sales_by_month['Category'].unique()\n",
    "\n",
    "fig, axs = plt.subplots(len(unique_categories), 1, figsize=(10, 8), sharex=True)\n",
    "\n",
    "for i, category in enumerate(unique_categories):\n",
    "    category_data = sales_by_month[sales_by_month['Category'] == category]\n",
    "    axs[i].bar(category_data['Month'], category_data['Sales'], label=category)\n",
    "    axs[i].set_title(f\"{category}\")\n",
    "    axs[i].set_ylabel(\"Sales\")\n",
    "    axs[i].grid(True)\n",
    "\n",
    "plt.xticks(rotation=45)\n",
    "plt.tight_layout()\n",
    "plt.show()"
   ]
  },
  {
   "cell_type": "code",
   "execution_count": null,
   "id": "13dc91bf-64b1-415c-a8f2-4711247a8ef9",
   "metadata": {},
   "outputs": [],
   "source": []
  }
 ],
 "metadata": {
  "kernelspec": {
   "display_name": "Python 3 (ipykernel)",
   "language": "python",
   "name": "python3"
  },
  "language_info": {
   "codemirror_mode": {
    "name": "ipython",
    "version": 3
   },
   "file_extension": ".py",
   "mimetype": "text/x-python",
   "name": "python",
   "nbconvert_exporter": "python",
   "pygments_lexer": "ipython3",
   "version": "3.11.7"
  }
 },
 "nbformat": 4,
 "nbformat_minor": 5
}
